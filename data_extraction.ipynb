{
  "cells": [
    {
      "cell_type": "code",
      "execution_count": 30,
      "metadata": {
        "colab": {
          "base_uri": "https://localhost:8080/"
        },
        "id": "3lNMH1gfF3cF",
        "outputId": "3474f221-df66-44ae-82b0-0123be61adae"
      },
      "outputs": [],
      "source": [
        "#import necessary pacakages\n",
        "import requests\n",
        "from bs4 import BeautifulSoup\n",
        "import pandas as pd\n",
        "import os\n",
        "#import nltk\n",
        "from nltk.tokenize import word_tokenize\n",
        "from nltk.corpus import stopwords\n",
        "#nltk.download('stopwords')\n",
        "import re"
      ]
    },
    {
      "cell_type": "code",
      "execution_count": 31,
      "metadata": {
        "colab": {
          "base_uri": "https://localhost:8080/"
        },
        "id": "AXXMNkOohRgr",
        "outputId": "0de27ec4-58a7-4a93-f0ff-e5df6ed9c1f3"
      },
      "outputs": [
        {
          "name": "stdout",
          "output_type": "stream",
          "text": [
            "Title not found on urlId 44\n",
            "Title not found on urlId 57\n",
            "Title not found on urlId 144\n"
          ]
        }
      ],
      "source": [
        "#read the url file into the pandas object\n",
        "df = pd.read_excel('Input.xlsx')\n",
        "\n",
        "url_id_list = []\n",
        "#loop throgh each row in the excel\n",
        "for index, row in df.iterrows():\n",
        "  url = row['URL']\n",
        "  url_id = row['URL_ID']\n",
        "  url_id_list.append(url_id)\n",
        "\n",
        "  # make a request to url\n",
        "  header = {'User-Agent': \"Mozilla/5.0 (Windows NT 10.0; Win64; x64) AppleWebKit/537.36 (KHTML, like Gecko) Chrome/108.0.0.0 Safari/537.36\"}\n",
        "  try:\n",
        "    response = requests.get(url,headers=header)\n",
        "  except:\n",
        "    print(\"Page not found on urlId {}\".format(url_id))\n",
        "  #create a beautifulsoup object\n",
        "  try:\n",
        "    soup = BeautifulSoup(response.content, 'html.parser')\n",
        "  except:\n",
        "    print(\"Page not found on urlId {}\".format(url_id))\n",
        "  #extract title\n",
        "  try:\n",
        "    title = soup.find('h1').get_text()\n",
        "  except:\n",
        "    print(\"Title not found on urlId {}\".format(url_id))\n",
        "    title = \"\"\n",
        "  #extract blog data\n",
        "  try:\n",
        "    articlebody = [p.get_text() for p in soup.find_all(\"div\", {'class':'td-post-content'})]\n",
        "    article = '\\n'.join(articlebody)\n",
        "  except:\n",
        "    print(\"Text not found on urlId {}\".format(url_id))\n",
        "\n",
        "  #Create a dir for text files if not found\n",
        "  path = \"Extracted Text Files\"\n",
        "  if not os.path.exists(path):\n",
        "    os.makedirs(path)\n",
        "\n",
        "  #create file name with urlid\n",
        "  file_name = 'Text File ' + str(url_id) + '.txt'\n",
        "  \n",
        "  #Write the extracted data to txt file\n",
        "  with open(os.path.join(path, file_name), 'w', encoding=\"utf-8\") as file:\n",
        "    file.write(title + '\\n' + article) if title!='' else 0\n"
      ]
    },
    {
      "cell_type": "code",
      "execution_count": 32,
      "metadata": {
        "id": "1tRdSv8ErMOm"
      },
      "outputs": [],
      "source": [
        "text_files_directory = \"Extracted Text Files\"\n",
        "stopwords_dir = \"StopWords\"\n",
        "master_dictionary_directory = \"MasterDictionary\"\n",
        "\n",
        "# load all stop wors from the stopwords directory and store in the set variable\n",
        "stop_words = set()\n",
        "for files in os.listdir(stopwords_dir):\n",
        "  with open(os.path.join(stopwords_dir,files),'r',encoding=\"ISO-8859-1\") as f:\n",
        "    stop_words.update(set(f.read().splitlines()))\n",
        "\n",
        "# load all text files  from the  directory and store in a list(docs)\n",
        "docs = []\n",
        "for id in url_id_list:\n",
        "  text_file = 'Text File ' + str(id) + '.txt'\n",
        "  with open(os.path.join(text_files_directory,text_file),'r',encoding=\"ISO-8859-1\") as f:\n",
        "    text = f.read()\n",
        "#tokenize the given text file\n",
        "    words = word_tokenize(text)\n",
        "# remove the stop words from the tokens\n",
        "    filtered_text = [word for word in words if word.lower() not in stop_words]\n",
        "# add each filtered tokens of each file into a list\n",
        "    docs.append(filtered_text)\n",
        "\n",
        "# store positive, Negative words from the directory\n",
        "positive_words_set=set()\n",
        "negitive_words_set=set()\n",
        "\n",
        "for files in os.listdir(master_dictionary_directory):\n",
        "  if files =='positive-words.txt':\n",
        "    with open(os.path.join(master_dictionary_directory,files),'r',encoding=\"ISO-8859-1\") as f:\n",
        "      positive_words_set.update(f.read().splitlines())\n",
        "  else:\n",
        "    with open(os.path.join(master_dictionary_directory,files),'r',encoding=\"ISO-8859-1\") as f:\n",
        "      negitive_words_set.update(f.read().splitlines())\n",
        "\n",
        "# now collect the positive  and negative words from each file\n",
        "# calculate the scores from the positive and negative words \n",
        "positive_words = []\n",
        "Negative_words =[]\n",
        "positive_score = []\n",
        "negative_score = []\n",
        "polarity_score = []\n",
        "subjectivity_score = []\n",
        "\n",
        "#iterate through the list of docs\n",
        "for i in range(len(docs)):\n",
        "  positive_words.append([word for word in docs[i] if word.lower() in positive_words_set])\n",
        "  Negative_words.append([word for word in docs[i] if word.lower() in negitive_words_set])\n",
        "  positive_score.append(len(positive_words[i]))\n",
        "  negative_score.append(len(Negative_words[i]))\n",
        "  polarity_score.append((positive_score[i] - negative_score[i]) / ((positive_score[i] + negative_score[i]) + 0.000001))\n",
        "  subjectivity_score.append((positive_score[i] + negative_score[i]) / ((len(docs[i])) + 0.000001))\n"
      ]
    },
    {
      "cell_type": "code",
      "execution_count": 33,
      "metadata": {
        "id": "F8RaMuD_EnQQ"
      },
      "outputs": [
        {
          "name": "stdout",
          "output_type": "stream",
          "text": [
            "in measue------------------ Text File 44.txt\n",
            "in measue------------------ Text File 57.txt\n",
            "in measue------------------ Text File 144.txt\n"
          ]
        },
        {
          "data": {
            "text/plain": [
              "\" if(os.stat(text_files_directory +'/'+file).st_size==0):\\n    print('in measue----values--------------',file)\\n    print(x,y,z,a,b)\\n  \""
            ]
          },
          "execution_count": 33,
          "metadata": {},
          "output_type": "execute_result"
        }
      ],
      "source": [
        "\n",
        "\n",
        "# Average Sentence Length = the number of words / the number of sentences\n",
        "# Percentage of Complex words = the number of complex words / the number of words \n",
        "# Fog Index = 0.4 * (Average Sentence Length + Percentage of Complex words)\n",
        "\n",
        "avg_sentence_length = []\n",
        "Percentage_of_Complex_words  =  []\n",
        "Fog_Index = []\n",
        "complex_word_count =  []\n",
        "avg_syllable_word_count =[]\n",
        "stop_words = set(stopwords.words(\"english\"))\n",
        "def measure(file):\n",
        "  if(os.stat(text_files_directory +'/'+file).st_size==0):\n",
        "    return 0, 0, 0, 0, 0\n",
        "  with open(os.path.join(text_files_directory, file),'r', encoding='ISO-8859-1') as f:\n",
        "    text = f.read()\n",
        "# remove punctuations \n",
        "    text = re.sub(r'[^\\w\\s.]','',text)\n",
        "# split the given text file into sentences\n",
        "    sentences = text.split('.')\n",
        "# total number of sentences in a file\n",
        "    num_sentences = len(sentences)\n",
        "# total words in the file\n",
        "    words = [word  for word in text.split() if word.lower() not in stop_words ]\n",
        "    num_words = len(words)\n",
        " \n",
        "# complex words having syllable count is greater than 2\n",
        "# Complex words are words in the text that contain more than two syllables.\n",
        "    complex_words = []\n",
        "    for word in words:\n",
        "      vowels = 'aeiou'\n",
        "      syllable_count_word = sum( 1 for letter in word if letter.lower() in vowels)\n",
        "      if syllable_count_word > 2:\n",
        "        complex_words.append(word)\n",
        "\n",
        "# Syllable Count Per Word\n",
        "# We count the number of Syllables in each word of the text by counting the vowels present in each word.\n",
        "#  We also handle some exceptions like words ending with \"es\",\"ed\" by not counting them as a syllable.\n",
        "    syllable_count = 0\n",
        "    syllable_words =[]\n",
        "    for word in words:\n",
        "      if word.endswith('es'):\n",
        "        word = word[:-2]\n",
        "      elif word.endswith('ed'):\n",
        "        word = word[:-2]\n",
        "      vowels = 'aeiou'\n",
        "      syllable_count_word = sum( 1 for letter in word if letter.lower() in vowels)\n",
        "      if syllable_count_word >= 1:\n",
        "        syllable_words.append(word)\n",
        "        syllable_count += syllable_count_word\n",
        "\n",
        "    avg_sentence_len = num_words / num_sentences\n",
        "    avg_syllable_word_count = syllable_count / len(syllable_words)\n",
        "    Percent_Complex_words  =  len(complex_words) / num_words\n",
        "    Fog_Index = 0.4 * (avg_sentence_len + Percent_Complex_words)\n",
        "\n",
        "    return avg_sentence_len, Percent_Complex_words, Fog_Index, len(complex_words),avg_syllable_word_count\n",
        "\n",
        "# iterate through each file or doc\n",
        "for f in url_id_list:\n",
        "  file = 'Text File ' + str(f) + '.txt'\n",
        "  x,y,z,a,b = measure(file)\n",
        "  avg_sentence_length.append(x)\n",
        "  Percentage_of_Complex_words.append(y)\n",
        "  Fog_Index.append(z)\n",
        "  complex_word_count.append(a)\n",
        "  avg_syllable_word_count.append(b)\n"
      ]
    },
    {
      "cell_type": "code",
      "execution_count": 34,
      "metadata": {
        "id": "4NElx7d94ICm"
      },
      "outputs": [
        {
          "data": {
            "text/plain": [
              "\"  if(os.stat(text_files_directory +'/'+file).st_size==0):\\n    print('in measue----personl--------------',file)\\n    print(x)\""
            ]
          },
          "execution_count": 34,
          "metadata": {},
          "output_type": "execute_result"
        }
      ],
      "source": [
        "# Word Count and Average Word Length Sum of the total number of characters in each word/Total number of words\n",
        "# We count the total cleaned words present in the text by \n",
        "# removing the stop words (using stopwords class of nltk package).\n",
        "# removing any punctuations like ? ! , . from the word before counting.\n",
        "\n",
        "def calculate_cleaned_words(file):\n",
        "  words = []\n",
        "  average_word_length = 0\n",
        "  with open(os.path.join(text_files_directory,file), 'r', encoding='ISO-8859-1') as f:\n",
        "    text = f.read()\n",
        "    if(len(text)!=0):\n",
        "      text = re.sub(r'[^\\w\\s]', '' , text)\n",
        "      words = [word  for word in text.split() if word.lower() not in stop_words]\n",
        "      length = sum(len(word) for word in words)\n",
        "      average_word_length = length / len(words)\n",
        "  return len(words),average_word_length\n",
        "\n",
        "word_count = []\n",
        "average_word_length = []\n",
        "for f in url_id_list:\n",
        "  file = 'Text File ' + str(f) + '.txt'\n",
        "  x, y = calculate_cleaned_words(file)\n",
        "  word_count.append(x)\n",
        "  average_word_length.append(y)\n",
        "\n",
        "\n",
        "# To calculate Personal Pronouns mentioned in the text, we use regex to find \n",
        "# the counts of the words - “I,” “we,” “my,” “ours,” and “us”. Special care is taken\n",
        "#  so that the country name US is not included in the list.\n",
        "def calculate_personal_pronouns(file):\n",
        "  with open(os.path.join(text_files_directory,file), 'r', encoding='ISO-8859-1') as f:\n",
        "    text = f.read()\n",
        "    if(len(text)==1): return 0\n",
        "    personal_pronouns = [\"I\", \"we\", \"my\", \"ours\", \"us\"]\n",
        "    count = 0\n",
        "    for pronoun in personal_pronouns:\n",
        "      count += len(re.findall(r\"\\b\" + pronoun + r\"\\b\", text)) # \\b is used to match word boundaries\n",
        "  return count\n",
        "\n",
        "personal_pronoun_count = []\n",
        "for file in os.listdir(text_files_directory):\n",
        "  x = calculate_personal_pronouns(file)\n",
        "  personal_pronoun_count.append(x)"
      ]
    },
    {
      "cell_type": "code",
      "execution_count": 35,
      "metadata": {
        "id": "mXsnVluZ9TG3"
      },
      "outputs": [],
      "source": [
        "output_data_frame = pd.read_excel('Output Data Structure.xlsx')\n",
        "\n",
        "# URL_ID 44 ,57, 144 does not exists i,e. page does not exist, throughs 404 error\n",
        "# so we are going to drop these rows from the table\n",
        "#output_data_frame.drop([44-37,57-37,144-37], axis = 0, inplace=True)\n",
        "\n",
        "def format_values(variable_list):\n",
        "  return [round(i,2) for i in variable_list]\n",
        "\n",
        "# These are the required parameters \n",
        "variables = [positive_score,\n",
        "            negative_score,\n",
        "            polarity_score,\n",
        "            subjectivity_score,\n",
        "            avg_sentence_length,\n",
        "            Percentage_of_Complex_words,\n",
        "            Fog_Index,\n",
        "            avg_sentence_length,\n",
        "            complex_word_count,\n",
        "            word_count,\n",
        "            avg_syllable_word_count,\n",
        "            personal_pronoun_count,\n",
        "            average_word_length]\n",
        "\n",
        "# write the values to the dataframe\n",
        "for i, var in enumerate(variables):\n",
        "  #check the scores by printing var for debugging\n",
        "  output_data_frame.iloc[:,i+2] = format_values(var)\n",
        "  #print(format_values(var))\n",
        "\n",
        "#now save the dataframe to the disk\n",
        "output_data_frame.to_csv('Output_Data.csv')"
      ]
    }
  ],
  "metadata": {
    "colab": {
      "provenance": []
    },
    "gpuClass": "standard",
    "kernelspec": {
      "display_name": "Python 3",
      "name": "python3"
    },
    "language_info": {
      "codemirror_mode": {
        "name": "ipython",
        "version": 3
      },
      "file_extension": ".py",
      "mimetype": "text/x-python",
      "name": "python",
      "nbconvert_exporter": "python",
      "pygments_lexer": "ipython3",
      "version": "3.11.3"
    }
  },
  "nbformat": 4,
  "nbformat_minor": 0
}
